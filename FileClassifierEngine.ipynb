{
  "nbformat": 4,
  "nbformat_minor": 0,
  "metadata": {
    "colab": {
      "provenance": []
    },
    "kernelspec": {
      "name": "python3",
      "display_name": "Python 3"
    },
    "language_info": {
      "name": "python"
    }
  },
  "cells": [
    {
      "cell_type": "code",
      "source": [
        "pip install PyMuPDF"
      ],
      "metadata": {
        "colab": {
          "base_uri": "https://localhost:8080/"
        },
        "id": "ZWH9s1ojplGh",
        "outputId": "fb8ee915-7ddf-4d40-e970-4d7e07f0146a"
      },
      "execution_count": null,
      "outputs": [
        {
          "output_type": "stream",
          "name": "stdout",
          "text": [
            "Looking in indexes: https://pypi.org/simple, https://us-python.pkg.dev/colab-wheels/public/simple/\n",
            "Requirement already satisfied: PyMuPDF in /usr/local/lib/python3.8/dist-packages (1.21.1)\n"
          ]
        }
      ]
    },
    {
      "cell_type": "code",
      "source": [
        "!pip install easyocr --no-deps"
      ],
      "metadata": {
        "id": "UvYF4sy9rZLV",
        "colab": {
          "base_uri": "https://localhost:8080/"
        },
        "outputId": "090e4679-1c4d-4890-d018-2fac885ce2b4"
      },
      "execution_count": null,
      "outputs": [
        {
          "output_type": "stream",
          "name": "stdout",
          "text": [
            "Looking in indexes: https://pypi.org/simple, https://us-python.pkg.dev/colab-wheels/public/simple/\n",
            "Requirement already satisfied: easyocr in /usr/local/lib/python3.8/dist-packages (1.6.2)\n"
          ]
        }
      ]
    },
    {
      "cell_type": "code",
      "source": [
        "!sudo apt install tesseract-ocr\n",
        "!pip install pytesseract"
      ],
      "metadata": {
        "colab": {
          "base_uri": "https://localhost:8080/"
        },
        "id": "vhIGfKaUc5Xx",
        "outputId": "ffaf7a99-ec2a-49bd-974b-2d2e08bb064e"
      },
      "execution_count": null,
      "outputs": [
        {
          "output_type": "stream",
          "name": "stdout",
          "text": [
            "Reading package lists... Done\n",
            "Building dependency tree       \n",
            "Reading state information... Done\n",
            "tesseract-ocr is already the newest version (4.1.1-2build2).\n",
            "0 upgraded, 0 newly installed, 0 to remove and 23 not upgraded.\n",
            "Looking in indexes: https://pypi.org/simple, https://us-python.pkg.dev/colab-wheels/public/simple/\n",
            "Requirement already satisfied: pytesseract in /usr/local/lib/python3.8/dist-packages (0.3.10)\n",
            "Requirement already satisfied: Pillow>=8.0.0 in /usr/local/lib/python3.8/dist-packages (from pytesseract) (9.4.0)\n",
            "Requirement already satisfied: packaging>=21.3 in /usr/local/lib/python3.8/dist-packages (from pytesseract) (21.3)\n",
            "Requirement already satisfied: pyparsing!=3.0.5,>=2.0.2 in /usr/local/lib/python3.8/dist-packages (from packaging>=21.3->pytesseract) (3.0.9)\n"
          ]
        }
      ]
    },
    {
      "cell_type": "code",
      "source": [
        "pip install img2pdf"
      ],
      "metadata": {
        "colab": {
          "base_uri": "https://localhost:8080/"
        },
        "id": "88_ViUhYpDrO",
        "outputId": "9e2cf6ab-fbaf-4581-ab32-895d6e22cc4a"
      },
      "execution_count": null,
      "outputs": [
        {
          "output_type": "stream",
          "name": "stdout",
          "text": [
            "Looking in indexes: https://pypi.org/simple, https://us-python.pkg.dev/colab-wheels/public/simple/\n",
            "Requirement already satisfied: img2pdf in /usr/local/lib/python3.8/dist-packages (0.4.4)\n",
            "Requirement already satisfied: Pillow in /usr/local/lib/python3.8/dist-packages (from img2pdf) (9.4.0)\n",
            "Requirement already satisfied: pikepdf in /usr/local/lib/python3.8/dist-packages (from img2pdf) (6.2.8.post1)\n",
            "Requirement already satisfied: deprecation in /usr/local/lib/python3.8/dist-packages (from pikepdf->img2pdf) (2.1.0)\n",
            "Requirement already satisfied: lxml>=4.8 in /usr/local/lib/python3.8/dist-packages (from pikepdf->img2pdf) (4.9.2)\n",
            "Requirement already satisfied: packaging in /usr/local/lib/python3.8/dist-packages (from pikepdf->img2pdf) (21.3)\n",
            "Requirement already satisfied: pyparsing!=3.0.5,>=2.0.2 in /usr/local/lib/python3.8/dist-packages (from packaging->pikepdf->img2pdf) (3.0.9)\n"
          ]
        }
      ]
    },
    {
      "cell_type": "code",
      "execution_count": null,
      "metadata": {
        "colab": {
          "base_uri": "https://localhost:8080/",
          "height": 74
        },
        "id": "I97g-NDlol6_",
        "outputId": "a5393e45-e4dc-465e-aa61-76af0dc86c62"
      },
      "outputs": [
        {
          "output_type": "display_data",
          "data": {
            "text/plain": [
              "<IPython.core.display.HTML object>"
            ],
            "text/html": [
              "\n",
              "     <input type=\"file\" id=\"files-c85eab01-377b-4453-99c7-535a565d54c9\" name=\"files[]\" multiple disabled\n",
              "        style=\"border:none\" />\n",
              "     <output id=\"result-c85eab01-377b-4453-99c7-535a565d54c9\">\n",
              "      Upload widget is only available when the cell has been executed in the\n",
              "      current browser session. Please rerun this cell to enable.\n",
              "      </output>\n",
              "      <script>// Copyright 2017 Google LLC\n",
              "//\n",
              "// Licensed under the Apache License, Version 2.0 (the \"License\");\n",
              "// you may not use this file except in compliance with the License.\n",
              "// You may obtain a copy of the License at\n",
              "//\n",
              "//      http://www.apache.org/licenses/LICENSE-2.0\n",
              "//\n",
              "// Unless required by applicable law or agreed to in writing, software\n",
              "// distributed under the License is distributed on an \"AS IS\" BASIS,\n",
              "// WITHOUT WARRANTIES OR CONDITIONS OF ANY KIND, either express or implied.\n",
              "// See the License for the specific language governing permissions and\n",
              "// limitations under the License.\n",
              "\n",
              "/**\n",
              " * @fileoverview Helpers for google.colab Python module.\n",
              " */\n",
              "(function(scope) {\n",
              "function span(text, styleAttributes = {}) {\n",
              "  const element = document.createElement('span');\n",
              "  element.textContent = text;\n",
              "  for (const key of Object.keys(styleAttributes)) {\n",
              "    element.style[key] = styleAttributes[key];\n",
              "  }\n",
              "  return element;\n",
              "}\n",
              "\n",
              "// Max number of bytes which will be uploaded at a time.\n",
              "const MAX_PAYLOAD_SIZE = 100 * 1024;\n",
              "\n",
              "function _uploadFiles(inputId, outputId) {\n",
              "  const steps = uploadFilesStep(inputId, outputId);\n",
              "  const outputElement = document.getElementById(outputId);\n",
              "  // Cache steps on the outputElement to make it available for the next call\n",
              "  // to uploadFilesContinue from Python.\n",
              "  outputElement.steps = steps;\n",
              "\n",
              "  return _uploadFilesContinue(outputId);\n",
              "}\n",
              "\n",
              "// This is roughly an async generator (not supported in the browser yet),\n",
              "// where there are multiple asynchronous steps and the Python side is going\n",
              "// to poll for completion of each step.\n",
              "// This uses a Promise to block the python side on completion of each step,\n",
              "// then passes the result of the previous step as the input to the next step.\n",
              "function _uploadFilesContinue(outputId) {\n",
              "  const outputElement = document.getElementById(outputId);\n",
              "  const steps = outputElement.steps;\n",
              "\n",
              "  const next = steps.next(outputElement.lastPromiseValue);\n",
              "  return Promise.resolve(next.value.promise).then((value) => {\n",
              "    // Cache the last promise value to make it available to the next\n",
              "    // step of the generator.\n",
              "    outputElement.lastPromiseValue = value;\n",
              "    return next.value.response;\n",
              "  });\n",
              "}\n",
              "\n",
              "/**\n",
              " * Generator function which is called between each async step of the upload\n",
              " * process.\n",
              " * @param {string} inputId Element ID of the input file picker element.\n",
              " * @param {string} outputId Element ID of the output display.\n",
              " * @return {!Iterable<!Object>} Iterable of next steps.\n",
              " */\n",
              "function* uploadFilesStep(inputId, outputId) {\n",
              "  const inputElement = document.getElementById(inputId);\n",
              "  inputElement.disabled = false;\n",
              "\n",
              "  const outputElement = document.getElementById(outputId);\n",
              "  outputElement.innerHTML = '';\n",
              "\n",
              "  const pickedPromise = new Promise((resolve) => {\n",
              "    inputElement.addEventListener('change', (e) => {\n",
              "      resolve(e.target.files);\n",
              "    });\n",
              "  });\n",
              "\n",
              "  const cancel = document.createElement('button');\n",
              "  inputElement.parentElement.appendChild(cancel);\n",
              "  cancel.textContent = 'Cancel upload';\n",
              "  const cancelPromise = new Promise((resolve) => {\n",
              "    cancel.onclick = () => {\n",
              "      resolve(null);\n",
              "    };\n",
              "  });\n",
              "\n",
              "  // Wait for the user to pick the files.\n",
              "  const files = yield {\n",
              "    promise: Promise.race([pickedPromise, cancelPromise]),\n",
              "    response: {\n",
              "      action: 'starting',\n",
              "    }\n",
              "  };\n",
              "\n",
              "  cancel.remove();\n",
              "\n",
              "  // Disable the input element since further picks are not allowed.\n",
              "  inputElement.disabled = true;\n",
              "\n",
              "  if (!files) {\n",
              "    return {\n",
              "      response: {\n",
              "        action: 'complete',\n",
              "      }\n",
              "    };\n",
              "  }\n",
              "\n",
              "  for (const file of files) {\n",
              "    const li = document.createElement('li');\n",
              "    li.append(span(file.name, {fontWeight: 'bold'}));\n",
              "    li.append(span(\n",
              "        `(${file.type || 'n/a'}) - ${file.size} bytes, ` +\n",
              "        `last modified: ${\n",
              "            file.lastModifiedDate ? file.lastModifiedDate.toLocaleDateString() :\n",
              "                                    'n/a'} - `));\n",
              "    const percent = span('0% done');\n",
              "    li.appendChild(percent);\n",
              "\n",
              "    outputElement.appendChild(li);\n",
              "\n",
              "    const fileDataPromise = new Promise((resolve) => {\n",
              "      const reader = new FileReader();\n",
              "      reader.onload = (e) => {\n",
              "        resolve(e.target.result);\n",
              "      };\n",
              "      reader.readAsArrayBuffer(file);\n",
              "    });\n",
              "    // Wait for the data to be ready.\n",
              "    let fileData = yield {\n",
              "      promise: fileDataPromise,\n",
              "      response: {\n",
              "        action: 'continue',\n",
              "      }\n",
              "    };\n",
              "\n",
              "    // Use a chunked sending to avoid message size limits. See b/62115660.\n",
              "    let position = 0;\n",
              "    do {\n",
              "      const length = Math.min(fileData.byteLength - position, MAX_PAYLOAD_SIZE);\n",
              "      const chunk = new Uint8Array(fileData, position, length);\n",
              "      position += length;\n",
              "\n",
              "      const base64 = btoa(String.fromCharCode.apply(null, chunk));\n",
              "      yield {\n",
              "        response: {\n",
              "          action: 'append',\n",
              "          file: file.name,\n",
              "          data: base64,\n",
              "        },\n",
              "      };\n",
              "\n",
              "      let percentDone = fileData.byteLength === 0 ?\n",
              "          100 :\n",
              "          Math.round((position / fileData.byteLength) * 100);\n",
              "      percent.textContent = `${percentDone}% done`;\n",
              "\n",
              "    } while (position < fileData.byteLength);\n",
              "  }\n",
              "\n",
              "  // All done.\n",
              "  yield {\n",
              "    response: {\n",
              "      action: 'complete',\n",
              "    }\n",
              "  };\n",
              "}\n",
              "\n",
              "scope.google = scope.google || {};\n",
              "scope.google.colab = scope.google.colab || {};\n",
              "scope.google.colab._files = {\n",
              "  _uploadFiles,\n",
              "  _uploadFilesContinue,\n",
              "};\n",
              "})(self);\n",
              "</script> "
            ]
          },
          "metadata": {}
        },
        {
          "output_type": "stream",
          "name": "stdout",
          "text": [
            "Saving aadhaar0 (1).pdf to aadhaar0 (1).pdf\n"
          ]
        }
      ],
      "source": [
        "from google.colab import files\n",
        "uploaded = files.upload()"
      ]
    },
    {
      "cell_type": "code",
      "source": [
        "import pytesseract\n",
        "import shutil\n",
        "import os\n",
        "import random\n",
        "try:\n",
        " from PIL import Image\n",
        "except ImportError:\n",
        " import Image"
      ],
      "metadata": {
        "id": "98PFoQn4fj9D"
      },
      "execution_count": null,
      "outputs": []
    },
    {
      "cell_type": "code",
      "source": [
        "import fitz ## PyMuPDF\n",
        "import io\n",
        "from PIL import Image"
      ],
      "metadata": {
        "id": "NiG6XN60onqA"
      },
      "execution_count": null,
      "outputs": []
    },
    {
      "cell_type": "code",
      "source": [
        "NAME=list(uploaded.keys())[0]\n"
      ],
      "metadata": {
        "id": "-QcTeMbNtLFc"
      },
      "execution_count": null,
      "outputs": []
    },
    {
      "cell_type": "code",
      "source": [
        "import img2pdf\n",
        "if \".png\" in NAME or \".jpeg\" in NAME:\n",
        "    # opening image\n",
        "    image = Image.open(NAME)\n",
        "    pdf_path_in_colab=f\"fileuploaded\"\n",
        "    # converting into chunks using img2pdf\n",
        "    pdf_bytes = img2pdf.convert(image.filename)\n",
        "\n",
        "    # opening or creating pdf file\n",
        "    file = open(pdf_path_in_colab, \"wb\")\n",
        "\n",
        "    #  writing pdf files with chunks\n",
        "    file.write(pdf_bytes)\n",
        "\n",
        "    # closing image file\n",
        "    image.close()\n",
        "\n",
        "    # closing pdf file\n",
        "    file.close()"
      ],
      "metadata": {
        "id": "-2VFYp1lsLh-"
      },
      "execution_count": null,
      "outputs": []
    },
    {
      "cell_type": "code",
      "source": [
        "import os\n",
        "if \".png\" in NAME or \".jpeg\" in NAME:\n",
        "  pass\n",
        "else:\n",
        "  dst ='fileuploaded'\n",
        "  os.rename(list(uploaded.keys())[0], dst)"
      ],
      "metadata": {
        "id": "UCZdCjaFExVf"
      },
      "execution_count": null,
      "outputs": []
    },
    {
      "cell_type": "code",
      "source": [
        "#name=uploaded[0]\n",
        "pdf_file=fitz.open(\"fileuploaded\")\n",
        "# pdf_file\n",
        "#name\n"
      ],
      "metadata": {
        "id": "zl-yDVOD5cc8"
      },
      "execution_count": null,
      "outputs": []
    },
    {
      "cell_type": "code",
      "source": [
        "import pandas as pd\n",
        "COLUMNS=['File Name','Image Extracted',\"Document Type\", \"Data Extracted\"]\n",
        "df=pd.DataFrame(columns=COLUMNS)\n",
        "File_Name=[]\n",
        "Image_Extracted=[]\n",
        "Document_Type=[]\n",
        "Data_Extracted=[]"
      ],
      "metadata": {
        "id": "iG13wdQbOWP8"
      },
      "execution_count": null,
      "outputs": []
    },
    {
      "cell_type": "code",
      "source": [
        "# iterate over PDF pages\n",
        "for page_index in range(len(pdf_file)):\n",
        "    # get the page itself\n",
        "    page = pdf_file[page_index]\n",
        "    # get image list\n",
        "    image_list = page.get_images()\n",
        "    # printing number of images found in this page\n",
        "    if image_list:\n",
        "        print(f\"[+] Found a total of {len(image_list)} images in page {page_index}\")\n",
        "    else:\n",
        "        print(\"[!] No images found on page\", page_index)\n",
        "    for image_index, img in enumerate(image_list, start=1):\n",
        "        data=[]\n",
        "        data.append(NAME)\n",
        "        adhr_=False\n",
        "        pan_=False\n",
        "        dl_=False\n",
        "        f16_=False\n",
        "        pslip_=False\n",
        "        chq_=False\n",
        "        bstatemnet_=False\n",
        "        vtr_=False\n",
        "        pass_=False\n",
        "        # get the XREF of the image\n",
        "        xref = img[0]\n",
        "        # extract the image bytes\n",
        "        base_image = pdf_file.extract_image(xref)\n",
        "        #print(base_image)\n",
        "        image_bytes = base_image[\"image\"]\n",
        "        # get the image extension\n",
        "        image_ext = base_image[\"ext\"]\n",
        "        # load it to PIL\n",
        "        image = Image.open(io.BytesIO(image_bytes))\n",
        "        # save it to local disk\n",
        "        image.save(open(f\"image{page_index+1}_{image_index}.{image_ext}\", \"wb\"))\n",
        "        data.append(f\"image{page_index+1}_{image_index}.{image_ext}\")\n",
        "        #extracting text out of image found\n",
        "\n",
        "        image_path_in_colab=f\"image{page_index+1}_{image_index}.{image_ext}\"\n",
        "        extractedInformation = pytesseract.image_to_string(Image.open(image_path_in_colab))\n",
        "\n",
        "\n",
        "\n",
        "       #making all lowercase string copy\n",
        "\n",
        "        infoLC=extractedInformation.lower()\n",
        "        #print(infoLC)\n",
        "\n",
        "        if \"form no.16\" in infoLC: f16_ = True\n",
        "        elif \"bank\" in infoLC and \"statement\" in infoLC: bstatement_ = True\n",
        "        elif \"cheque\" in infoLC: chq_ = True\n",
        "        elif \"pay\" in infoLC: chq_ = True\n",
        "        elif \"bearer\" in infoLC: chq_ = True\n",
        "        elif \"aadhaar\" in infoLC:adhr_ = True\n",
        "        elif \"uidi\" in infoLC: adhr_ = True\n",
        "        elif \"driving\" in infoLC: dl_ = True\n",
        "        elif \"dl no\" in infoLC: dl_ = True\n",
        "        elif \"election\" in infoLC : vtr_ = True\n",
        "        elif \"elector\" in infoLC: vtr_ = True\n",
        "        elif \"income tax\" in infoLC: pan_ = True\n",
        "        elif \"pan \" in infoLC: pan_ = True\n",
        "        elif \"passport\" in infoLC: pass_ = True\n",
        "        elif \"salary slip\" in infoLC: pslip_ = True\n",
        "        elif \"payslip\" in infoLC: pslip_ = True\n",
        "        s=(adhr_*\"Aadhaar\"+dl_*\"Driver License\"+vtr_*\"Voter ID\"+pan_*\"PAN card\"+pass_*\"Passport\"+f16_*\"Form No. 16\"+pslip_*\"Salary Slip/Certificate\")\n",
        "        data.append(s)\n",
        "        data.append(extractedInformation)\n",
        "        df.loc[len(df)] = data\n",
        "## code source: https://stackoverflow.com/questions/2693820/extract-images-from-pdf-without-resampling-in-python"
      ],
      "metadata": {
        "id": "4T09bI3QqK0D",
        "colab": {
          "base_uri": "https://localhost:8080/"
        },
        "outputId": "a4716d72-bf61-45d0-ee98-94beb85887d5"
      },
      "execution_count": null,
      "outputs": [
        {
          "output_type": "stream",
          "name": "stdout",
          "text": [
            "[+] Found a total of 1 images in page 0\n",
            "[+] Found a total of 1 images in page 1\n",
            "[+] Found a total of 1 images in page 2\n",
            "[+] Found a total of 1 images in page 3\n",
            "[+] Found a total of 1 images in page 4\n",
            "[+] Found a total of 1 images in page 5\n"
          ]
        }
      ]
    },
    {
      "cell_type": "code",
      "source": [
        "df"
      ],
      "metadata": {
        "colab": {
          "base_uri": "https://localhost:8080/",
          "height": 237
        },
        "id": "JlTccwq52rtR",
        "outputId": "46914703-1638-4655-f906-dd3d7fc84368"
      },
      "execution_count": null,
      "outputs": [
        {
          "output_type": "execute_result",
          "data": {
            "text/plain": [
              "          File Name Image Extracted Document Type  \\\n",
              "0  aadhaar0 (1).pdf    image1_1.png                 \n",
              "1  aadhaar0 (1).pdf    image2_1.png                 \n",
              "2  aadhaar0 (1).pdf    image3_1.png                 \n",
              "3  aadhaar0 (1).pdf    image4_1.png       Aadhaar   \n",
              "4  aadhaar0 (1).pdf    image5_1.png       Aadhaar   \n",
              "5  aadhaar0 (1).pdf    image6_1.png       Aadhaar   \n",
              "\n",
              "                                      Data Extracted  \n",
              "0                                                \\n\n",
              "  \n",
              "1  g AN.\\n\\nTUTT\\n\\n \\n\\nOd QeLSKo\\n\\nara: ea, / ...  \n",
              "2   \\n \\n  \\n     \\n     \\n       \\n   \\n\\neae fa...  \n",
              "3  Aadhaar Offline e-KYC Offline e-KYC - Ver\\n\\n ...  \n",
              "4  digio\\nDigiLocker verified e-Aadhaar\\n\\nThis d...  \n",
              "5  Aadhaar Offline e-KYC\\nKYC — Verified\\n\\n \\n\\n...  "
            ],
            "text/html": [
              "\n",
              "  <div id=\"df-21bf4ec0-7e52-4138-8a21-f4eec4633dd2\">\n",
              "    <div class=\"colab-df-container\">\n",
              "      <div>\n",
              "<style scoped>\n",
              "    .dataframe tbody tr th:only-of-type {\n",
              "        vertical-align: middle;\n",
              "    }\n",
              "\n",
              "    .dataframe tbody tr th {\n",
              "        vertical-align: top;\n",
              "    }\n",
              "\n",
              "    .dataframe thead th {\n",
              "        text-align: right;\n",
              "    }\n",
              "</style>\n",
              "<table border=\"1\" class=\"dataframe\">\n",
              "  <thead>\n",
              "    <tr style=\"text-align: right;\">\n",
              "      <th></th>\n",
              "      <th>File Name</th>\n",
              "      <th>Image Extracted</th>\n",
              "      <th>Document Type</th>\n",
              "      <th>Data Extracted</th>\n",
              "    </tr>\n",
              "  </thead>\n",
              "  <tbody>\n",
              "    <tr>\n",
              "      <th>0</th>\n",
              "      <td>aadhaar0 (1).pdf</td>\n",
              "      <td>image1_1.png</td>\n",
              "      <td></td>\n",
              "      <td>\\n</td>\n",
              "    </tr>\n",
              "    <tr>\n",
              "      <th>1</th>\n",
              "      <td>aadhaar0 (1).pdf</td>\n",
              "      <td>image2_1.png</td>\n",
              "      <td></td>\n",
              "      <td>g AN.\\n\\nTUTT\\n\\n \\n\\nOd QeLSKo\\n\\nara: ea, / ...</td>\n",
              "    </tr>\n",
              "    <tr>\n",
              "      <th>2</th>\n",
              "      <td>aadhaar0 (1).pdf</td>\n",
              "      <td>image3_1.png</td>\n",
              "      <td></td>\n",
              "      <td>\\n \\n  \\n     \\n     \\n       \\n   \\n\\neae fa...</td>\n",
              "    </tr>\n",
              "    <tr>\n",
              "      <th>3</th>\n",
              "      <td>aadhaar0 (1).pdf</td>\n",
              "      <td>image4_1.png</td>\n",
              "      <td>Aadhaar</td>\n",
              "      <td>Aadhaar Offline e-KYC Offline e-KYC - Ver\\n\\n ...</td>\n",
              "    </tr>\n",
              "    <tr>\n",
              "      <th>4</th>\n",
              "      <td>aadhaar0 (1).pdf</td>\n",
              "      <td>image5_1.png</td>\n",
              "      <td>Aadhaar</td>\n",
              "      <td>digio\\nDigiLocker verified e-Aadhaar\\n\\nThis d...</td>\n",
              "    </tr>\n",
              "    <tr>\n",
              "      <th>5</th>\n",
              "      <td>aadhaar0 (1).pdf</td>\n",
              "      <td>image6_1.png</td>\n",
              "      <td>Aadhaar</td>\n",
              "      <td>Aadhaar Offline e-KYC\\nKYC — Verified\\n\\n \\n\\n...</td>\n",
              "    </tr>\n",
              "  </tbody>\n",
              "</table>\n",
              "</div>\n",
              "      <button class=\"colab-df-convert\" onclick=\"convertToInteractive('df-21bf4ec0-7e52-4138-8a21-f4eec4633dd2')\"\n",
              "              title=\"Convert this dataframe to an interactive table.\"\n",
              "              style=\"display:none;\">\n",
              "        \n",
              "  <svg xmlns=\"http://www.w3.org/2000/svg\" height=\"24px\"viewBox=\"0 0 24 24\"\n",
              "       width=\"24px\">\n",
              "    <path d=\"M0 0h24v24H0V0z\" fill=\"none\"/>\n",
              "    <path d=\"M18.56 5.44l.94 2.06.94-2.06 2.06-.94-2.06-.94-.94-2.06-.94 2.06-2.06.94zm-11 1L8.5 8.5l.94-2.06 2.06-.94-2.06-.94L8.5 2.5l-.94 2.06-2.06.94zm10 10l.94 2.06.94-2.06 2.06-.94-2.06-.94-.94-2.06-.94 2.06-2.06.94z\"/><path d=\"M17.41 7.96l-1.37-1.37c-.4-.4-.92-.59-1.43-.59-.52 0-1.04.2-1.43.59L10.3 9.45l-7.72 7.72c-.78.78-.78 2.05 0 2.83L4 21.41c.39.39.9.59 1.41.59.51 0 1.02-.2 1.41-.59l7.78-7.78 2.81-2.81c.8-.78.8-2.07 0-2.86zM5.41 20L4 18.59l7.72-7.72 1.47 1.35L5.41 20z\"/>\n",
              "  </svg>\n",
              "      </button>\n",
              "      \n",
              "  <style>\n",
              "    .colab-df-container {\n",
              "      display:flex;\n",
              "      flex-wrap:wrap;\n",
              "      gap: 12px;\n",
              "    }\n",
              "\n",
              "    .colab-df-convert {\n",
              "      background-color: #E8F0FE;\n",
              "      border: none;\n",
              "      border-radius: 50%;\n",
              "      cursor: pointer;\n",
              "      display: none;\n",
              "      fill: #1967D2;\n",
              "      height: 32px;\n",
              "      padding: 0 0 0 0;\n",
              "      width: 32px;\n",
              "    }\n",
              "\n",
              "    .colab-df-convert:hover {\n",
              "      background-color: #E2EBFA;\n",
              "      box-shadow: 0px 1px 2px rgba(60, 64, 67, 0.3), 0px 1px 3px 1px rgba(60, 64, 67, 0.15);\n",
              "      fill: #174EA6;\n",
              "    }\n",
              "\n",
              "    [theme=dark] .colab-df-convert {\n",
              "      background-color: #3B4455;\n",
              "      fill: #D2E3FC;\n",
              "    }\n",
              "\n",
              "    [theme=dark] .colab-df-convert:hover {\n",
              "      background-color: #434B5C;\n",
              "      box-shadow: 0px 1px 3px 1px rgba(0, 0, 0, 0.15);\n",
              "      filter: drop-shadow(0px 1px 2px rgba(0, 0, 0, 0.3));\n",
              "      fill: #FFFFFF;\n",
              "    }\n",
              "  </style>\n",
              "\n",
              "      <script>\n",
              "        const buttonEl =\n",
              "          document.querySelector('#df-21bf4ec0-7e52-4138-8a21-f4eec4633dd2 button.colab-df-convert');\n",
              "        buttonEl.style.display =\n",
              "          google.colab.kernel.accessAllowed ? 'block' : 'none';\n",
              "\n",
              "        async function convertToInteractive(key) {\n",
              "          const element = document.querySelector('#df-21bf4ec0-7e52-4138-8a21-f4eec4633dd2');\n",
              "          const dataTable =\n",
              "            await google.colab.kernel.invokeFunction('convertToInteractive',\n",
              "                                                     [key], {});\n",
              "          if (!dataTable) return;\n",
              "\n",
              "          const docLinkHtml = 'Like what you see? Visit the ' +\n",
              "            '<a target=\"_blank\" href=https://colab.research.google.com/notebooks/data_table.ipynb>data table notebook</a>'\n",
              "            + ' to learn more about interactive tables.';\n",
              "          element.innerHTML = '';\n",
              "          dataTable['output_type'] = 'display_data';\n",
              "          await google.colab.output.renderOutput(dataTable, element);\n",
              "          const docLink = document.createElement('div');\n",
              "          docLink.innerHTML = docLinkHtml;\n",
              "          element.appendChild(docLink);\n",
              "        }\n",
              "      </script>\n",
              "    </div>\n",
              "  </div>\n",
              "  "
            ]
          },
          "metadata": {},
          "execution_count": 29
        }
      ]
    }
  ]
}